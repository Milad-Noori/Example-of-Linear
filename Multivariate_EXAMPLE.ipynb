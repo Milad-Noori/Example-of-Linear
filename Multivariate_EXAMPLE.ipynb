{
 "cells": [
  {
   "cell_type": "code",
   "execution_count": 1,
   "id": "c47e28a1-c9a3-461e-9864-d76b240e4eb0",
   "metadata": {},
   "outputs": [],
   "source": [
    "import pandas as pd\n",
    "import numpy as np\n",
    "import matplotlib.pyplot as plt\n",
    "from sklearn.model_selection import train_test_split\n",
    "from sklearn.linear_model import LinearRegression\n",
    "from sklearn import metrics"
   ]
  },
  {
   "cell_type": "code",
   "execution_count": 2,
   "id": "0831adab-cc7e-4691-8efc-b7f75e6574a2",
   "metadata": {},
   "outputs": [
    {
     "data": {
      "text/html": [
       "<div>\n",
       "<style scoped>\n",
       "    .dataframe tbody tr th:only-of-type {\n",
       "        vertical-align: middle;\n",
       "    }\n",
       "\n",
       "    .dataframe tbody tr th {\n",
       "        vertical-align: top;\n",
       "    }\n",
       "\n",
       "    .dataframe thead th {\n",
       "        text-align: right;\n",
       "    }\n",
       "</style>\n",
       "<table border=\"1\" class=\"dataframe\">\n",
       "  <thead>\n",
       "    <tr style=\"text-align: right;\">\n",
       "      <th></th>\n",
       "      <th>X1</th>\n",
       "      <th>X2</th>\n",
       "      <th>X3</th>\n",
       "      <th>X4</th>\n",
       "      <th>y</th>\n",
       "    </tr>\n",
       "  </thead>\n",
       "  <tbody>\n",
       "    <tr>\n",
       "      <th>0</th>\n",
       "      <td>20.631730</td>\n",
       "      <td>12.867703</td>\n",
       "      <td>8.395460</td>\n",
       "      <td>13.990905</td>\n",
       "      <td>189.031908</td>\n",
       "    </tr>\n",
       "    <tr>\n",
       "      <th>1</th>\n",
       "      <td>4.101116</td>\n",
       "      <td>5.433219</td>\n",
       "      <td>3.563688</td>\n",
       "      <td>7.586737</td>\n",
       "      <td>65.410833</td>\n",
       "    </tr>\n",
       "    <tr>\n",
       "      <th>2</th>\n",
       "      <td>11.924915</td>\n",
       "      <td>-4.457952</td>\n",
       "      <td>4.307833</td>\n",
       "      <td>-3.869729</td>\n",
       "      <td>34.669369</td>\n",
       "    </tr>\n",
       "    <tr>\n",
       "      <th>3</th>\n",
       "      <td>33.079571</td>\n",
       "      <td>13.541840</td>\n",
       "      <td>0.573275</td>\n",
       "      <td>5.720989</td>\n",
       "      <td>189.053144</td>\n",
       "    </tr>\n",
       "    <tr>\n",
       "      <th>4</th>\n",
       "      <td>23.595950</td>\n",
       "      <td>14.390700</td>\n",
       "      <td>2.435688</td>\n",
       "      <td>28.890003</td>\n",
       "      <td>215.060877</td>\n",
       "    </tr>\n",
       "    <tr>\n",
       "      <th>...</th>\n",
       "      <td>...</td>\n",
       "      <td>...</td>\n",
       "      <td>...</td>\n",
       "      <td>...</td>\n",
       "      <td>...</td>\n",
       "    </tr>\n",
       "    <tr>\n",
       "      <th>4995</th>\n",
       "      <td>34.957819</td>\n",
       "      <td>12.133620</td>\n",
       "      <td>-4.530844</td>\n",
       "      <td>1.458013</td>\n",
       "      <td>177.207858</td>\n",
       "    </tr>\n",
       "    <tr>\n",
       "      <th>4996</th>\n",
       "      <td>41.573404</td>\n",
       "      <td>18.242280</td>\n",
       "      <td>4.724725</td>\n",
       "      <td>6.538582</td>\n",
       "      <td>295.463522</td>\n",
       "    </tr>\n",
       "    <tr>\n",
       "      <th>4997</th>\n",
       "      <td>15.128376</td>\n",
       "      <td>7.109396</td>\n",
       "      <td>5.293913</td>\n",
       "      <td>-3.501484</td>\n",
       "      <td>126.802408</td>\n",
       "    </tr>\n",
       "    <tr>\n",
       "      <th>4998</th>\n",
       "      <td>-4.791663</td>\n",
       "      <td>29.005545</td>\n",
       "      <td>-4.566243</td>\n",
       "      <td>18.247600</td>\n",
       "      <td>90.613662</td>\n",
       "    </tr>\n",
       "    <tr>\n",
       "      <th>4999</th>\n",
       "      <td>0.188991</td>\n",
       "      <td>21.316331</td>\n",
       "      <td>6.174126</td>\n",
       "      <td>5.524740</td>\n",
       "      <td>103.556223</td>\n",
       "    </tr>\n",
       "  </tbody>\n",
       "</table>\n",
       "<p>5000 rows × 5 columns</p>\n",
       "</div>"
      ],
      "text/plain": [
       "             X1         X2        X3         X4           y\n",
       "0     20.631730  12.867703  8.395460  13.990905  189.031908\n",
       "1      4.101116   5.433219  3.563688   7.586737   65.410833\n",
       "2     11.924915  -4.457952  4.307833  -3.869729   34.669369\n",
       "3     33.079571  13.541840  0.573275   5.720989  189.053144\n",
       "4     23.595950  14.390700  2.435688  28.890003  215.060877\n",
       "...         ...        ...       ...        ...         ...\n",
       "4995  34.957819  12.133620 -4.530844   1.458013  177.207858\n",
       "4996  41.573404  18.242280  4.724725   6.538582  295.463522\n",
       "4997  15.128376   7.109396  5.293913  -3.501484  126.802408\n",
       "4998  -4.791663  29.005545 -4.566243  18.247600   90.613662\n",
       "4999   0.188991  21.316331  6.174126   5.524740  103.556223\n",
       "\n",
       "[5000 rows x 5 columns]"
      ]
     },
     "execution_count": 2,
     "metadata": {},
     "output_type": "execute_result"
    }
   ],
   "source": [
    "data = pd.read_csv(\"Multivariate_Linear_Regression.csv\")\n",
    "data"
   ]
  },
  {
   "cell_type": "code",
   "execution_count": 3,
   "id": "3bb4a945-7d61-4aab-b203-4a0448b9c0ef",
   "metadata": {},
   "outputs": [
    {
     "data": {
      "text/html": [
       "<div>\n",
       "<style scoped>\n",
       "    .dataframe tbody tr th:only-of-type {\n",
       "        vertical-align: middle;\n",
       "    }\n",
       "\n",
       "    .dataframe tbody tr th {\n",
       "        vertical-align: top;\n",
       "    }\n",
       "\n",
       "    .dataframe thead th {\n",
       "        text-align: right;\n",
       "    }\n",
       "</style>\n",
       "<table border=\"1\" class=\"dataframe\">\n",
       "  <thead>\n",
       "    <tr style=\"text-align: right;\">\n",
       "      <th></th>\n",
       "      <th>X1</th>\n",
       "      <th>X2</th>\n",
       "      <th>X3</th>\n",
       "      <th>X4</th>\n",
       "      <th>y</th>\n",
       "    </tr>\n",
       "  </thead>\n",
       "  <tbody>\n",
       "    <tr>\n",
       "      <th>0</th>\n",
       "      <td>20.631730</td>\n",
       "      <td>12.867703</td>\n",
       "      <td>8.395460</td>\n",
       "      <td>13.990905</td>\n",
       "      <td>189.031908</td>\n",
       "    </tr>\n",
       "    <tr>\n",
       "      <th>1</th>\n",
       "      <td>4.101116</td>\n",
       "      <td>5.433219</td>\n",
       "      <td>3.563688</td>\n",
       "      <td>7.586737</td>\n",
       "      <td>65.410833</td>\n",
       "    </tr>\n",
       "    <tr>\n",
       "      <th>2</th>\n",
       "      <td>11.924915</td>\n",
       "      <td>-4.457952</td>\n",
       "      <td>4.307833</td>\n",
       "      <td>-3.869729</td>\n",
       "      <td>34.669369</td>\n",
       "    </tr>\n",
       "    <tr>\n",
       "      <th>3</th>\n",
       "      <td>33.079571</td>\n",
       "      <td>13.541840</td>\n",
       "      <td>0.573275</td>\n",
       "      <td>5.720989</td>\n",
       "      <td>189.053144</td>\n",
       "    </tr>\n",
       "    <tr>\n",
       "      <th>4</th>\n",
       "      <td>23.595950</td>\n",
       "      <td>14.390700</td>\n",
       "      <td>2.435688</td>\n",
       "      <td>28.890003</td>\n",
       "      <td>215.060877</td>\n",
       "    </tr>\n",
       "    <tr>\n",
       "      <th>...</th>\n",
       "      <td>...</td>\n",
       "      <td>...</td>\n",
       "      <td>...</td>\n",
       "      <td>...</td>\n",
       "      <td>...</td>\n",
       "    </tr>\n",
       "    <tr>\n",
       "      <th>4995</th>\n",
       "      <td>34.957819</td>\n",
       "      <td>12.133620</td>\n",
       "      <td>-4.530844</td>\n",
       "      <td>1.458013</td>\n",
       "      <td>177.207858</td>\n",
       "    </tr>\n",
       "    <tr>\n",
       "      <th>4996</th>\n",
       "      <td>41.573404</td>\n",
       "      <td>18.242280</td>\n",
       "      <td>4.724725</td>\n",
       "      <td>6.538582</td>\n",
       "      <td>295.463522</td>\n",
       "    </tr>\n",
       "    <tr>\n",
       "      <th>4997</th>\n",
       "      <td>15.128376</td>\n",
       "      <td>7.109396</td>\n",
       "      <td>5.293913</td>\n",
       "      <td>-3.501484</td>\n",
       "      <td>126.802408</td>\n",
       "    </tr>\n",
       "    <tr>\n",
       "      <th>4998</th>\n",
       "      <td>-4.791663</td>\n",
       "      <td>29.005545</td>\n",
       "      <td>-4.566243</td>\n",
       "      <td>18.247600</td>\n",
       "      <td>90.613662</td>\n",
       "    </tr>\n",
       "    <tr>\n",
       "      <th>4999</th>\n",
       "      <td>0.188991</td>\n",
       "      <td>21.316331</td>\n",
       "      <td>6.174126</td>\n",
       "      <td>5.524740</td>\n",
       "      <td>103.556223</td>\n",
       "    </tr>\n",
       "  </tbody>\n",
       "</table>\n",
       "<p>5000 rows × 5 columns</p>\n",
       "</div>"
      ],
      "text/plain": [
       "             X1         X2        X3         X4           y\n",
       "0     20.631730  12.867703  8.395460  13.990905  189.031908\n",
       "1      4.101116   5.433219  3.563688   7.586737   65.410833\n",
       "2     11.924915  -4.457952  4.307833  -3.869729   34.669369\n",
       "3     33.079571  13.541840  0.573275   5.720989  189.053144\n",
       "4     23.595950  14.390700  2.435688  28.890003  215.060877\n",
       "...         ...        ...       ...        ...         ...\n",
       "4995  34.957819  12.133620 -4.530844   1.458013  177.207858\n",
       "4996  41.573404  18.242280  4.724725   6.538582  295.463522\n",
       "4997  15.128376   7.109396  5.293913  -3.501484  126.802408\n",
       "4998  -4.791663  29.005545 -4.566243  18.247600   90.613662\n",
       "4999   0.188991  21.316331  6.174126   5.524740  103.556223\n",
       "\n",
       "[5000 rows x 5 columns]"
      ]
     },
     "execution_count": 3,
     "metadata": {},
     "output_type": "execute_result"
    }
   ],
   "source": [
    "df = pd.DataFrame(data)\n",
    "df"
   ]
  },
  {
   "cell_type": "code",
   "execution_count": 4,
   "id": "6dea714f-5339-42f7-b3fa-bfef6e83a24b",
   "metadata": {},
   "outputs": [
    {
     "name": "stdout",
     "output_type": "stream",
     "text": [
      "<class 'pandas.core.frame.DataFrame'>\n",
      "RangeIndex: 5000 entries, 0 to 4999\n",
      "Data columns (total 5 columns):\n",
      " #   Column  Non-Null Count  Dtype  \n",
      "---  ------  --------------  -----  \n",
      " 0   X1      5000 non-null   float64\n",
      " 1   X2      5000 non-null   float64\n",
      " 2   X3      5000 non-null   float64\n",
      " 3   X4      5000 non-null   float64\n",
      " 4   y       5000 non-null   float64\n",
      "dtypes: float64(5)\n",
      "memory usage: 195.4 KB\n"
     ]
    }
   ],
   "source": [
    "df.info()"
   ]
  },
  {
   "cell_type": "code",
   "execution_count": 5,
   "id": "1b1a5309-7dfb-4863-a37b-74ede742455a",
   "metadata": {},
   "outputs": [
    {
     "data": {
      "text/plain": [
       "X1    0\n",
       "X2    0\n",
       "X3    0\n",
       "X4    0\n",
       "y     0\n",
       "dtype: int64"
      ]
     },
     "execution_count": 5,
     "metadata": {},
     "output_type": "execute_result"
    }
   ],
   "source": [
    "df.isnull().sum()"
   ]
  },
  {
   "cell_type": "code",
   "execution_count": 6,
   "id": "5a4b40a6-16c4-4b74-a0ff-49ac91cffd0b",
   "metadata": {},
   "outputs": [],
   "source": [
    "X=pd.DataFrame(data , columns=['X1','X2','X3','X4'])\n",
    "Y=df['y'].values.reshape(-1,1)"
   ]
  },
  {
   "cell_type": "code",
   "execution_count": 7,
   "id": "6a0d69fe-39b5-4e1b-8af7-7bc77edec19e",
   "metadata": {},
   "outputs": [],
   "source": [
    "X_train ,X_test,Y_train,Y_test=train_test_split(X,Y , test_size=0.2 , random_state=0)"
   ]
  },
  {
   "cell_type": "code",
   "execution_count": 8,
   "id": "dfcd2136-65e9-44da-a469-62906bc29157",
   "metadata": {},
   "outputs": [],
   "source": [
    "regressor=LinearRegression()\n",
    "regressor.fit(X_train,Y_train)\n",
    "y_pred=regressor.predict(X_test)"
   ]
  },
  {
   "cell_type": "code",
   "execution_count": 9,
   "id": "174786b5-3ae2-472d-8065-e817a96d7a20",
   "metadata": {},
   "outputs": [
    {
     "name": "stdout",
     "output_type": "stream",
     "text": [
      "[1.51601053]\n",
      "[[4.34823281 3.67920261 4.59072332 1.27633537]]\n"
     ]
    }
   ],
   "source": [
    "print(regressor.intercept_)\n",
    "print(regressor.coef_)"
   ]
  },
  {
   "cell_type": "code",
   "execution_count": 10,
   "id": "24cbae12-0ee6-4d9b-a356-70e4c5e673ce",
   "metadata": {},
   "outputs": [],
   "source": [
    "## 1.51601053+4.34823281(x1)+3.67920261(x2)+4.59072332(x3)+1.27633537(x4)"
   ]
  },
  {
   "cell_type": "code",
   "execution_count": 11,
   "id": "ca597021-c8f4-4c9c-b334-8413803c01c4",
   "metadata": {},
   "outputs": [
    {
     "data": {
      "image/png": "[encoded data removed]",
      "text/plain": [
       "<Figure size 640x480 with 1 Axes>"
      ]
     },
     "metadata": {},
     "output_type": "display_data"
    }
   ],
   "source": [
    "a = X_test.X1\n",
    "b = Y_test\n",
    "c = X_test.X1\n",
    "d = y_pred\n",
    "plt.scatter(a,b , color='red')\n",
    "plt.scatter(c,d , color= 'blue')\n",
    "plt.show()"
   ]
  },
  {
   "cell_type": "code",
   "execution_count": 12,
   "id": "6956186e-a84f-47e1-9674-22db7730a293",
   "metadata": {},
   "outputs": [
    {
     "name": "stdout",
     "output_type": "stream",
     "text": [
      "MAE IS : 10.162990839481404\n",
      "MSE IS : 137.35337631091505\n",
      "MSE IS : 11.719785676833645\n",
      "MSE IS : 98.1289704302384\n"
     ]
    }
   ],
   "source": [
    "print(\"MAE IS :\" ,metrics.mean_absolute_error(Y_test,y_pred))\n",
    "print(\"MSE IS :\" ,metrics.mean_squared_error(Y_test,y_pred))\n",
    "print(\"MSE IS :\" ,np.sqrt(metrics.mean_squared_error(Y_test,y_pred)))\n",
    "print(\"MSE IS :\" ,metrics.r2_score(Y_test,y_pred)*100)"
   ]
  },
  {
   "cell_type": "code",
   "execution_count": 13,
   "id": "0dc94a45-87c8-45d6-8c06-1059d5af7a9e",
   "metadata": {},
   "outputs": [
    {
     "data": {
      "text/html": [
       "<div>\n",
       "<style scoped>\n",
       "    .dataframe tbody tr th:only-of-type {\n",
       "        vertical-align: middle;\n",
       "    }\n",
       "\n",
       "    .dataframe tbody tr th {\n",
       "        vertical-align: top;\n",
       "    }\n",
       "\n",
       "    .dataframe thead th {\n",
       "        text-align: right;\n",
       "    }\n",
       "</style>\n",
       "<table border=\"1\" class=\"dataframe\">\n",
       "  <thead>\n",
       "    <tr style=\"text-align: right;\">\n",
       "      <th></th>\n",
       "      <th>actual</th>\n",
       "      <th>predict</th>\n",
       "    </tr>\n",
       "  </thead>\n",
       "  <tbody>\n",
       "    <tr>\n",
       "      <th>0</th>\n",
       "      <td>126.491077</td>\n",
       "      <td>111.069051</td>\n",
       "    </tr>\n",
       "    <tr>\n",
       "      <th>1</th>\n",
       "      <td>180.906512</td>\n",
       "      <td>194.752078</td>\n",
       "    </tr>\n",
       "    <tr>\n",
       "      <th>2</th>\n",
       "      <td>29.937580</td>\n",
       "      <td>14.372470</td>\n",
       "    </tr>\n",
       "    <tr>\n",
       "      <th>3</th>\n",
       "      <td>62.409429</td>\n",
       "      <td>55.006874</td>\n",
       "    </tr>\n",
       "    <tr>\n",
       "      <th>4</th>\n",
       "      <td>339.101210</td>\n",
       "      <td>324.360890</td>\n",
       "    </tr>\n",
       "    <tr>\n",
       "      <th>...</th>\n",
       "      <td>...</td>\n",
       "      <td>...</td>\n",
       "    </tr>\n",
       "    <tr>\n",
       "      <th>995</th>\n",
       "      <td>276.504948</td>\n",
       "      <td>269.140659</td>\n",
       "    </tr>\n",
       "    <tr>\n",
       "      <th>996</th>\n",
       "      <td>159.467914</td>\n",
       "      <td>171.774246</td>\n",
       "    </tr>\n",
       "    <tr>\n",
       "      <th>997</th>\n",
       "      <td>48.091581</td>\n",
       "      <td>43.709996</td>\n",
       "    </tr>\n",
       "    <tr>\n",
       "      <th>998</th>\n",
       "      <td>265.276161</td>\n",
       "      <td>256.870286</td>\n",
       "    </tr>\n",
       "    <tr>\n",
       "      <th>999</th>\n",
       "      <td>193.294056</td>\n",
       "      <td>200.287641</td>\n",
       "    </tr>\n",
       "  </tbody>\n",
       "</table>\n",
       "<p>1000 rows × 2 columns</p>\n",
       "</div>"
      ],
      "text/plain": [
       "         actual     predict\n",
       "0    126.491077  111.069051\n",
       "1    180.906512  194.752078\n",
       "2     29.937580   14.372470\n",
       "3     62.409429   55.006874\n",
       "4    339.101210  324.360890\n",
       "..          ...         ...\n",
       "995  276.504948  269.140659\n",
       "996  159.467914  171.774246\n",
       "997   48.091581   43.709996\n",
       "998  265.276161  256.870286\n",
       "999  193.294056  200.287641\n",
       "\n",
       "[1000 rows x 2 columns]"
      ]
     },
     "execution_count": 13,
     "metadata": {},
     "output_type": "execute_result"
    }
   ],
   "source": [
    "compare= pd.DataFrame({'actual': Y_test.flatten(),'predict': y_pred.flatten()})\n",
    "compare"
   ]
  },
  {
   "cell_type": "code",
   "execution_count": 14,
   "id": "ed02bd2f-4075-4aff-a82f-beee682adb23",
   "metadata": {},
   "outputs": [
    {
     "data": {
      "text/plain": [
       "65.3816575871094"
      ]
     },
     "execution_count": 14,
     "metadata": {},
     "output_type": "execute_result"
    }
   ],
   "source": [
    "y1 =1.51601053 + 4.34823281*(4.101116)+3.67920261*(5.433219)+4.59072332*(3.563688)+1.27633537*(7.586737)\n",
    "y1   ##### Test the LinearRegression with secend index [1] ######"
   ]
  },
  {
   "cell_type": "code",
   "execution_count": null,
   "id": "a92a260b-1703-4574-b6db-0ebdc6e49b30",
   "metadata": {},
   "outputs": [],
   "source": [
    "X1 = float(input('X1 is: '))  \n",
    "X2 = float(input('X2 is: '))  \n",
    "X3 = float(input('X3 is: '))  \n",
    "X4 = float(input('X4 is: '))  \n",
    "\n",
    "y1 = (  \n",
    "    1.51601053 +   \n",
    "    (4.34823281 * X1) +   \n",
    "    (3.67920261 * X2) +   \n",
    "    (4.59072332 * X3) +   \n",
    "    (1.27633537 * X4)  \n",
    ")  \n",
    " \n",
    "print(y1)  "
   ]
  },
  {
   "cell_type": "code",
   "execution_count": null,
   "id": "a02d8d1f-c143-49d0-be9c-f491d08e55b1",
   "metadata": {},
   "outputs": [],
   "source": []
  }
 ],
 "metadata": {
  "kernelspec": {
   "display_name": "Python 3",
   "language": "python",
   "name": "python3"
  },
  "language_info": {
   "codemirror_mode": {
    "name": "ipython",
    "version": 3
   },
   "file_extension": ".py",
   "mimetype": "text/x-python",
   "name": "python",
   "nbconvert_exporter": "python",
   "pygments_lexer": "ipython3",
   "version": "3.12.0"
  }
 },
 "nbformat": 4,
 "nbformat_minor": 5
}
